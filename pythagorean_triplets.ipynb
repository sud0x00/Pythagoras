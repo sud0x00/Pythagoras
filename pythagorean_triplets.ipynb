{
  "nbformat": 4,
  "nbformat_minor": 0,
  "metadata": {
    "colab": {
      "provenance": [],
      "authorship_tag": "ABX9TyMzdYVcTu8t9F+WOygjl25Q",
      "include_colab_link": true
    },
    "kernelspec": {
      "name": "python3",
      "display_name": "Python 3"
    },
    "language_info": {
      "name": "python"
    }
  },
  "cells": [
    {
      "cell_type": "markdown",
      "metadata": {
        "id": "view-in-github",
        "colab_type": "text"
      },
      "source": [
        "<a href=\"https://colab.research.google.com/github/sud0x00/Pythagoras/blob/main/pythagorean_triplets.ipynb\" target=\"_parent\"><img src=\"https://colab.research.google.com/assets/colab-badge.svg\" alt=\"Open In Colab\"/></a>"
      ]
    },
    {
      "cell_type": "markdown",
      "source": [
        "##Python code to generate Pythagorean Triplets"
      ],
      "metadata": {
        "id": "_aEjVD7hfcDM"
      }
    },
    {
      "cell_type": "code",
      "execution_count": 1,
      "metadata": {
        "colab": {
          "base_uri": "https://localhost:8080/"
        },
        "id": "R0qzh_T6dvgW",
        "outputId": "9dbe41c7-779d-458f-bfaf-7e2d52264e3d"
      },
      "outputs": [
        {
          "output_type": "stream",
          "name": "stdout",
          "text": [
            "Found 5 unique Pythagorean triplets in 0.010863 seconds.\n",
            "[(3, 4, 5), (5, 12, 13), (8, 15, 17), (7, 24, 25), (20, 21, 29)]\n"
          ]
        }
      ],
      "source": [
        "import math\n",
        "import time\n",
        "def find_unique_pythagorean_triplets(n):\n",
        "    start_time = time.time()\n",
        "    triplets = []\n",
        "    for c in range(1, n+1):\n",
        "        for b in range(1, c):\n",
        "            for a in range(1, b):\n",
        "                if a**2 + b**2 == c**2 and math.gcd(a, math.gcd(b, c)) == 1:\n",
        "                    triplets.append((a, b, c))\n",
        "    end_time = time.time()\n",
        "    elapsed_time = end_time - start_time\n",
        "    print(f\"Found {len(triplets)} unique Pythagorean triplets in {elapsed_time:.6f} seconds.\")\n",
        "    return triplets\n",
        "\n",
        "print(find_unique_pythagorean_triplets(30)) # Prints [(3, 4, 5), (5, 12, 13), (8, 15, 17)]"
      ]
    },
    {
      "cell_type": "markdown",
      "source": [],
      "metadata": {
        "id": "YhYm2xPQg-bP"
      }
    },
    {
      "cell_type": "markdown",
      "source": [
        "##C code to generate Pythagorean Triplets"
      ],
      "metadata": {
        "id": "5CKsf3bUg-ps"
      }
    },
    {
      "cell_type": "code",
      "source": [
        "%%writefile pythagorean.c\n",
        "#include <stdio.h>\n",
        "#include <math.h>\n",
        "#include <time.h>\n",
        "int gcd(int x, int y);\n",
        "void find_unique_pythagorean_triplets(int n) {\n",
        "    clock_t start_time, end_time;\n",
        "    double elapsed_time;\n",
        "    int a, b, c, count = 0;\n",
        "    start_time = clock();\n",
        "    for (c = 1; c <= n; c++) {\n",
        "        for (b = 1; b < c; b++) {\n",
        "            for (a = 1; a < b; a++) {\n",
        "                if (a*a + b*b == c*c && gcd(a, gcd(b, c)) == 1) {\n",
        "                    printf(\"(%d, %d, %d)\\n\", a, b, c);\n",
        "                    count++;\n",
        "                }\n",
        "            }\n",
        "        }\n",
        "    }\n",
        "    end_time = clock();\n",
        "    elapsed_time = (double)(end_time - start_time) / CLOCKS_PER_SEC;\n",
        "    printf(\"Found %d unique Pythagorean triplets in %f seconds.\\n\", count, elapsed_time);\n",
        "}\n",
        "\n",
        "int gcd(int x, int y) {\n",
        "    int r;\n",
        "    while (y != 0) {\n",
        "        r = x % y;\n",
        "        x = y;\n",
        "        y = r;\n",
        "    }\n",
        "    return x;\n",
        "}\n",
        "\n",
        "int main() {\n",
        "    find_unique_pythagorean_triplets(20);\n",
        "    return 0;\n",
        "}\n",
        "\n"
      ],
      "metadata": {
        "colab": {
          "base_uri": "https://localhost:8080/"
        },
        "id": "0rZtc-n4dwNf",
        "outputId": "1be1b95c-9afb-4096-8180-420d7b43454d"
      },
      "execution_count": 2,
      "outputs": [
        {
          "output_type": "stream",
          "name": "stdout",
          "text": [
            "Overwriting pythagorean.c\n"
          ]
        }
      ]
    },
    {
      "cell_type": "code",
      "source": [
        "! g++ pythagorean.c -o pythagoras"
      ],
      "metadata": {
        "id": "oCAZpR56eR_e"
      },
      "execution_count": 3,
      "outputs": []
    },
    {
      "cell_type": "code",
      "source": [
        "!./pythagoras"
      ],
      "metadata": {
        "colab": {
          "base_uri": "https://localhost:8080/"
        },
        "id": "2m3u3qCDefnl",
        "outputId": "03ba4d6c-31af-4156-f8cc-da5047ce2495"
      },
      "execution_count": 4,
      "outputs": [
        {
          "output_type": "stream",
          "name": "stdout",
          "text": [
            "(3, 4, 5)\n",
            "(5, 12, 13)\n",
            "(8, 15, 17)\n",
            "Found 3 unique Pythagorean triplets in 0.000112 seconds.\n"
          ]
        }
      ]
    },

  ]
}
